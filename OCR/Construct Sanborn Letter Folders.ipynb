{
 "cells": [
  {
   "cell_type": "code",
   "execution_count": 1,
   "metadata": {},
   "outputs": [],
   "source": [
    "# This is mainly useful in dealing with the labeled_letters that can be generated from the current model.\n",
    "# It helps since the first step in creating a trainable dataset for the OCR model is to have each distinct\n",
    "# character type (A's, B's, etc) in the same folder."
   ]
  },
  {
   "cell_type": "code",
   "execution_count": 2,
   "metadata": {},
   "outputs": [],
   "source": [
    "import os\n",
    "import string\n",
    "import shutil"
   ]
  },
  {
   "cell_type": "code",
   "execution_count": 3,
   "metadata": {},
   "outputs": [],
   "source": [
    "folder_path = '/media/mehdi2277/MyFiles/large_datasets/text_classification/labeled_letters/'\n",
    "folder_images = os.listdir(folder_path)"
   ]
  },
  {
   "cell_type": "code",
   "execution_count": 4,
   "metadata": {},
   "outputs": [],
   "source": [
    "for c in string.ascii_uppercase:\n",
    "    os.makedirs(folder_path + c, exist_ok=True)"
   ]
  },
  {
   "cell_type": "code",
   "execution_count": 5,
   "metadata": {},
   "outputs": [],
   "source": [
    "for img_path in folder_images:\n",
    "    c = img_path[-5]\n",
    "    if c in string.ascii_uppercase:\n",
    "        shutil.move(folder_path + img_path, folder_path + c + '/' + img_path)"
   ]
  }
 ],
 "metadata": {
  "kernelspec": {
   "display_name": "Python 3",
   "language": "python",
   "name": "python3"
  },
  "language_info": {
   "codemirror_mode": {
    "name": "ipython",
    "version": 3
   },
   "file_extension": ".py",
   "mimetype": "text/x-python",
   "name": "python",
   "nbconvert_exporter": "python",
   "pygments_lexer": "ipython3",
   "version": "3.5.2"
  }
 },
 "nbformat": 4,
 "nbformat_minor": 2
}
