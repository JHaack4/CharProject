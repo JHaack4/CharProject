{
 "cells": [
  {
   "cell_type": "code",
   "execution_count": 21,
   "metadata": {},
   "outputs": [],
   "source": [
    "import glob\n",
    "import json\n",
    "import create_dataset\n",
    "import os\n",
    "import sys\n",
    "from shutil import copy\n",
    "from pathlib import Path\n",
    "from random import shuffle\n",
    "import matplotlib.pyplot as plt\n",
    "import matplotlib.image as mpimg"
   ]
  },
  {
   "cell_type": "code",
   "execution_count": 22,
   "metadata": {},
   "outputs": [],
   "source": [
    "%matplotlib inline"
   ]
  },
  {
   "cell_type": "code",
   "execution_count": 23,
   "metadata": {},
   "outputs": [],
   "source": [
    "base_image_directory = '/media/mehdi2277/MyFiles/large_datasets/text_classification/Test_Sanborn_Words/'\n",
    "image_directory = '/media/mehdi2277/MyFiles/large_datasets/text_classification/Test_Sanborn_Words/Skewed_Numbers/'\n",
    "word_image_paths = glob.glob(image_directory + '*.png')"
   ]
  },
  {
   "cell_type": "code",
   "execution_count": 4,
   "metadata": {},
   "outputs": [],
   "source": [
    "text_labels_file_name = 'text_labels_sanborn_testing.json'\n",
    "text_labels_file_handle = open(base_image_directory + text_labels_file_name, 'r')\n",
    "word_image_labels = json.load(text_labels_file_handle)\n",
    "text_labels_file_handle.close()"
   ]
  },
  {
   "cell_type": "code",
   "execution_count": 5,
   "metadata": {},
   "outputs": [],
   "source": [
    "prefix_len = len('/media/mehdi2277/MyFiles/large_datasets/text_classification/Test_Sanborn_Words/')\n",
    "suffix_word_image_labels = {k[prefix_len:]: v for k,v in word_image_labels.items()}\n",
    "word_image_labels = {image_directory + k: v for k,v in suffix_word_image_labels.items()}"
   ]
  },
  {
   "cell_type": "code",
   "execution_count": 24,
   "metadata": {},
   "outputs": [],
   "source": [
    "text_labels_file_name2 = 'text_labels_sanborn_testing2.json'\n",
    "text_labels_file_handle2 = open(base_image_directory + text_labels_file_name2, 'r')\n",
    "word_image_labels2 = json.load(text_labels_file_handle2)\n",
    "text_labels_file_handle2.close()"
   ]
  },
  {
   "cell_type": "code",
   "execution_count": 25,
   "metadata": {},
   "outputs": [],
   "source": [
    "word_image_labels2 = {image_directory + k: v for k,v in word_image_labels2.items()}"
   ]
  },
  {
   "cell_type": "code",
   "execution_count": 26,
   "metadata": {},
   "outputs": [],
   "source": [
    "full_word_image_labels = {}\n",
    "word_image_labels = {}\n",
    "full_word_image_labels.update(word_image_labels)\n",
    "full_word_image_labels.update(word_image_labels2)"
   ]
  },
  {
   "cell_type": "code",
   "execution_count": 33,
   "metadata": {},
   "outputs": [],
   "source": [
    "present_word_image_paths = list(filter(lambda word: word in full_word_image_labels, word_image_paths))"
   ]
  },
  {
   "cell_type": "code",
   "execution_count": 28,
   "metadata": {},
   "outputs": [],
   "source": [
    "home_directory = os.path.expanduser('~')\n",
    "nn_library_path = home_directory + '/Documents/HarveyMuddWork/Neural_Nets_Research/neural_nets_research/neural_nets_library'\n",
    "sys.path.append(nn_library_path)"
   ]
  },
  {
   "cell_type": "code",
   "execution_count": 29,
   "metadata": {},
   "outputs": [],
   "source": [
    "from dataset import greyscale_image_loader, tightest_image_crop, square_padding\n",
    "from torchvision import transforms\n",
    "from PIL import Image"
   ]
  },
  {
   "cell_type": "code",
   "execution_count": 30,
   "metadata": {},
   "outputs": [],
   "source": [
    "def vertical_scale_preserve_aspect_ratio(img, height=32):\n",
    "    w, h = img.size\n",
    "    \n",
    "    return transforms.Resize((height,int(height/h * w)), interpolation=Image.NEAREST)(img)"
   ]
  },
  {
   "cell_type": "code",
   "execution_count": 31,
   "metadata": {},
   "outputs": [],
   "source": [
    "transform = transforms.Compose([\n",
    "        transforms.ToTensor(),\n",
    "        transforms.Lambda(tightest_image_crop),\n",
    "        transforms.ToPILImage(),\n",
    "        transforms.Lambda(vertical_scale_preserve_aspect_ratio),\n",
    "    ])"
   ]
  },
  {
   "cell_type": "code",
   "execution_count": 15,
   "metadata": {},
   "outputs": [],
   "source": [
    "for image_path in word_image_paths:\n",
    "    datapoint = greyscale_image_loader(image_path)\n",
    "    image = transform(datapoint)\n",
    "    image.save(image_path)"
   ]
  },
  {
   "cell_type": "code",
   "execution_count": 34,
   "metadata": {},
   "outputs": [],
   "source": [
    "word_image_paths_by_width = sorted(present_word_image_paths, key=lambda p: greyscale_image_loader(p).size[0])\n",
    "word_image_labels_by_width = [full_word_image_labels[path] for path in word_image_paths_by_width]"
   ]
  },
  {
   "cell_type": "code",
   "execution_count": 35,
   "metadata": {},
   "outputs": [],
   "source": [
    "database_file_name = '/media/mehdi2277/MyFiles/large_datasets/text_classification/lmdb_files/skewed_sanborn_numbers_test.mdb'"
   ]
  },
  {
   "cell_type": "code",
   "execution_count": 36,
   "metadata": {},
   "outputs": [
    {
     "name": "stdout",
     "output_type": "stream",
     "text": [
      "Created dataset with 500 samples\n"
     ]
    }
   ],
   "source": [
    "create_dataset.createDataset(database_file_name, word_image_paths_by_width, word_image_labels_by_width)"
   ]
  }
 ],
 "metadata": {
  "kernelspec": {
   "display_name": "Python 3",
   "language": "python",
   "name": "python3"
  },
  "language_info": {
   "codemirror_mode": {
    "name": "ipython",
    "version": 3
   },
   "file_extension": ".py",
   "mimetype": "text/x-python",
   "name": "python",
   "nbconvert_exporter": "python",
   "pygments_lexer": "ipython3",
   "version": "3.5.2"
  }
 },
 "nbformat": 4,
 "nbformat_minor": 2
}
